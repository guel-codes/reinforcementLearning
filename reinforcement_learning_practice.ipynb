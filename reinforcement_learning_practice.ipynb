{
 "cells": [
  {
   "cell_type": "markdown",
   "id": "painful-length",
   "metadata": {},
   "source": [
    "# Reinforcement Learning"
   ]
  },
  {
   "cell_type": "code",
   "execution_count": 18,
   "id": "governing-joining",
   "metadata": {
    "collapsed": true
   },
   "outputs": [
    {
     "name": "stdout",
     "output_type": "stream",
     "text": [
      "Requirement already satisfied: stable-baselines3[extra] in c:\\users\\migue\\appdata\\local\\programs\\python\\python39\\lib\\site-packages (1.2.0)\n",
      "Requirement already satisfied: matplotlib in c:\\users\\migue\\appdata\\local\\programs\\python\\python39\\lib\\site-packages (from stable-baselines3[extra]) (3.4.3)\n",
      "Requirement already satisfied: torch>=1.8.1 in c:\\users\\migue\\appdata\\local\\programs\\python\\python39\\lib\\site-packages (from stable-baselines3[extra]) (1.9.0)\n",
      "Requirement already satisfied: pandas in c:\\users\\migue\\appdata\\local\\programs\\python\\python39\\lib\\site-packages (from stable-baselines3[extra]) (1.2.1)\n",
      "Requirement already satisfied: cloudpickle in c:\\users\\migue\\appdata\\local\\programs\\python\\python39\\lib\\site-packages (from stable-baselines3[extra]) (2.0.0)\n",
      "Requirement already satisfied: gym>=0.17 in c:\\users\\migue\\appdata\\local\\programs\\python\\python39\\lib\\site-packages (from stable-baselines3[extra]) (0.20.0)\n",
      "Requirement already satisfied: numpy in c:\\users\\migue\\appdata\\local\\programs\\python\\python39\\lib\\site-packages (from stable-baselines3[extra]) (1.19.5)\n",
      "Requirement already satisfied: opencv-python in c:\\users\\migue\\appdata\\local\\programs\\python\\python39\\lib\\site-packages (from stable-baselines3[extra]) (4.5.3.56)\n",
      "Requirement already satisfied: psutil in c:\\users\\migue\\appdata\\local\\programs\\python\\python39\\lib\\site-packages (from stable-baselines3[extra]) (5.8.0)\n",
      "Requirement already satisfied: pillow in c:\\users\\migue\\appdata\\local\\programs\\python\\python39\\lib\\site-packages (from stable-baselines3[extra]) (8.1.2)\n",
      "Requirement already satisfied: atari-py~=0.2.0 in c:\\users\\migue\\appdata\\local\\programs\\python\\python39\\lib\\site-packages (from stable-baselines3[extra]) (0.2.9)\n",
      "Requirement already satisfied: tensorboard>=2.2.0 in c:\\users\\migue\\appdata\\local\\programs\\python\\python39\\lib\\site-packages (from stable-baselines3[extra]) (2.6.0)\n",
      "Requirement already satisfied: six in c:\\users\\migue\\appdata\\local\\programs\\python\\python39\\lib\\site-packages (from atari-py~=0.2.0->stable-baselines3[extra]) (1.15.0)\n",
      "Requirement already satisfied: setuptools>=41.0.0 in c:\\users\\migue\\appdata\\local\\programs\\python\\python39\\lib\\site-packages (from tensorboard>=2.2.0->stable-baselines3[extra]) (49.2.1)\n",
      "Requirement already satisfied: google-auth-oauthlib<0.5,>=0.4.1 in c:\\users\\migue\\appdata\\local\\programs\\python\\python39\\lib\\site-packages (from tensorboard>=2.2.0->stable-baselines3[extra]) (0.4.6)\n",
      "Requirement already satisfied: protobuf>=3.6.0 in c:\\users\\migue\\appdata\\local\\programs\\python\\python39\\lib\\site-packages (from tensorboard>=2.2.0->stable-baselines3[extra]) (3.15.5)\n",
      "Requirement already satisfied: tensorboard-plugin-wit>=1.6.0 in c:\\users\\migue\\appdata\\local\\programs\\python\\python39\\lib\\site-packages (from tensorboard>=2.2.0->stable-baselines3[extra]) (1.8.0)\n",
      "Requirement already satisfied: werkzeug>=0.11.15 in c:\\users\\migue\\appdata\\local\\programs\\python\\python39\\lib\\site-packages (from tensorboard>=2.2.0->stable-baselines3[extra]) (2.0.1)\n",
      "Requirement already satisfied: tensorboard-data-server<0.7.0,>=0.6.0 in c:\\users\\migue\\appdata\\local\\programs\\python\\python39\\lib\\site-packages (from tensorboard>=2.2.0->stable-baselines3[extra]) (0.6.1)\n",
      "Requirement already satisfied: markdown>=2.6.8 in c:\\users\\migue\\appdata\\local\\programs\\python\\python39\\lib\\site-packages (from tensorboard>=2.2.0->stable-baselines3[extra]) (3.3.4)\n",
      "Requirement already satisfied: grpcio>=1.24.3 in c:\\users\\migue\\appdata\\local\\programs\\python\\python39\\lib\\site-packages (from tensorboard>=2.2.0->stable-baselines3[extra]) (1.40.0)\n",
      "Requirement already satisfied: google-auth<2,>=1.6.3 in c:\\users\\migue\\appdata\\local\\programs\\python\\python39\\lib\\site-packages (from tensorboard>=2.2.0->stable-baselines3[extra]) (1.35.0)\n",
      "Requirement already satisfied: wheel>=0.26 in c:\\users\\migue\\appdata\\local\\programs\\python\\python39\\lib\\site-packages (from tensorboard>=2.2.0->stable-baselines3[extra]) (0.36.2)\n",
      "Requirement already satisfied: absl-py>=0.4 in c:\\users\\migue\\appdata\\local\\programs\\python\\python39\\lib\\site-packages (from tensorboard>=2.2.0->stable-baselines3[extra]) (0.13.0)\n",
      "Requirement already satisfied: requests<3,>=2.21.0 in c:\\users\\migue\\appdata\\local\\programs\\python\\python39\\lib\\site-packages (from tensorboard>=2.2.0->stable-baselines3[extra]) (2.25.1)\n",
      "Requirement already satisfied: rsa<5,>=3.1.4 in c:\\users\\migue\\appdata\\local\\programs\\python\\python39\\lib\\site-packages (from google-auth<2,>=1.6.3->tensorboard>=2.2.0->stable-baselines3[extra]) (4.7.2)\n",
      "Requirement already satisfied: pyasn1-modules>=0.2.1 in c:\\users\\migue\\appdata\\local\\programs\\python\\python39\\lib\\site-packages (from google-auth<2,>=1.6.3->tensorboard>=2.2.0->stable-baselines3[extra]) (0.2.8)\n",
      "Requirement already satisfied: cachetools<5.0,>=2.0.0 in c:\\users\\migue\\appdata\\local\\programs\\python\\python39\\lib\\site-packages (from google-auth<2,>=1.6.3->tensorboard>=2.2.0->stable-baselines3[extra]) (4.2.1)\n",
      "Requirement already satisfied: requests-oauthlib>=0.7.0 in c:\\users\\migue\\appdata\\local\\programs\\python\\python39\\lib\\site-packages (from google-auth-oauthlib<0.5,>=0.4.1->tensorboard>=2.2.0->stable-baselines3[extra]) (1.3.0)\n",
      "Requirement already satisfied: pyasn1<0.5.0,>=0.4.6 in c:\\users\\migue\\appdata\\local\\programs\\python\\python39\\lib\\site-packages (from pyasn1-modules>=0.2.1->google-auth<2,>=1.6.3->tensorboard>=2.2.0->stable-baselines3[extra]) (0.4.8)\n",
      "Requirement already satisfied: urllib3<1.27,>=1.21.1 in c:\\users\\migue\\appdata\\local\\programs\\python\\python39\\lib\\site-packages (from requests<3,>=2.21.0->tensorboard>=2.2.0->stable-baselines3[extra]) (1.26.3)\n",
      "Requirement already satisfied: chardet<5,>=3.0.2 in c:\\users\\migue\\appdata\\local\\programs\\python\\python39\\lib\\site-packages (from requests<3,>=2.21.0->tensorboard>=2.2.0->stable-baselines3[extra]) (3.0.4)\n",
      "Requirement already satisfied: idna<3,>=2.5 in c:\\users\\migue\\appdata\\local\\programs\\python\\python39\\lib\\site-packages (from requests<3,>=2.21.0->tensorboard>=2.2.0->stable-baselines3[extra]) (2.10)\n",
      "Requirement already satisfied: certifi>=2017.4.17 in c:\\users\\migue\\appdata\\local\\programs\\python\\python39\\lib\\site-packages (from requests<3,>=2.21.0->tensorboard>=2.2.0->stable-baselines3[extra]) (2020.12.5)\n",
      "Requirement already satisfied: oauthlib>=3.0.0 in c:\\users\\migue\\appdata\\local\\programs\\python\\python39\\lib\\site-packages (from requests-oauthlib>=0.7.0->google-auth-oauthlib<0.5,>=0.4.1->tensorboard>=2.2.0->stable-baselines3[extra]) (3.1.1)\n",
      "Requirement already satisfied: typing-extensions in c:\\users\\migue\\appdata\\local\\programs\\python\\python39\\lib\\site-packages (from torch>=1.8.1->stable-baselines3[extra]) (3.7.4.3)\n",
      "Requirement already satisfied: pyparsing>=2.2.1 in c:\\users\\migue\\appdata\\local\\programs\\python\\python39\\lib\\site-packages (from matplotlib->stable-baselines3[extra]) (2.4.7)\n",
      "Requirement already satisfied: kiwisolver>=1.0.1 in c:\\users\\migue\\appdata\\local\\programs\\python\\python39\\lib\\site-packages (from matplotlib->stable-baselines3[extra]) (1.3.2)\n",
      "Requirement already satisfied: cycler>=0.10 in c:\\users\\migue\\appdata\\local\\programs\\python\\python39\\lib\\site-packages (from matplotlib->stable-baselines3[extra]) (0.10.0)\n",
      "Requirement already satisfied: python-dateutil>=2.7 in c:\\users\\migue\\appdata\\local\\programs\\python\\python39\\lib\\site-packages (from matplotlib->stable-baselines3[extra]) (2.8.1)\n",
      "Requirement already satisfied: pytz>=2017.3 in c:\\users\\migue\\appdata\\local\\programs\\python\\python39\\lib\\site-packages (from pandas->stable-baselines3[extra]) (2020.5)\n"
     ]
    },
    {
     "name": "stderr",
     "output_type": "stream",
     "text": [
      "WARNING: You are using pip version 21.0.1; however, version 21.2.4 is available.\n",
      "You should consider upgrading via the 'c:\\users\\migue\\appdata\\local\\programs\\python\\python39\\python.exe -m pip install --upgrade pip' command.\n"
     ]
    },
    {
     "name": "stdout",
     "output_type": "stream",
     "text": [
      "Collecting pyglet\n",
      "  Downloading pyglet-1.5.21-py3-none-any.whl (1.1 MB)\n",
      "Installing collected packages: pyglet\n",
      "Successfully installed pyglet-1.5.21\n"
     ]
    },
    {
     "name": "stderr",
     "output_type": "stream",
     "text": [
      "WARNING: You are using pip version 21.0.1; however, version 21.2.4 is available.\n",
      "You should consider upgrading via the 'c:\\users\\migue\\appdata\\local\\programs\\python\\python39\\python.exe -m pip install --upgrade pip' command.\n"
     ]
    }
   ],
   "source": [
    "!pip install stable-baselines3[extra]\n",
    "!pip install pyglet"
   ]
  },
  {
   "cell_type": "markdown",
   "id": "premium-punishment",
   "metadata": {},
   "source": [
    "## Import the dependencies"
   ]
  },
  {
   "cell_type": "code",
   "execution_count": 19,
   "id": "studied-address",
   "metadata": {},
   "outputs": [],
   "source": [
    "import os\n",
    "import gym #openAI gym to build env and work with existin env\n",
    "from stable_baselines3 import PPO # this imports the PPO algo from stable baselines\n",
    "from stable_baselines3.common.vec_env import DummyVecEnv #vectorizes your env wrapper to increase training speed.\n",
    "from stable_baselines3.common.evaluation import evaluate_policy # helps with testing training performance"
   ]
  },
  {
   "cell_type": "markdown",
   "id": "lyric-raising",
   "metadata": {},
   "source": [
    "## Loading the Env"
   ]
  },
  {
   "cell_type": "code",
   "execution_count": 20,
   "id": "earlier-simple",
   "metadata": {},
   "outputs": [],
   "source": [
    "environment_name = 'CartPole-v0' #cart_pole is a premade openAI gym environment (case_sensitive)\n",
    "env = gym.make(environment_name)"
   ]
  },
  {
   "cell_type": "code",
   "execution_count": 25,
   "id": "pointed-eclipse",
   "metadata": {},
   "outputs": [
    {
     "name": "stdout",
     "output_type": "stream",
     "text": [
      "Episode:1 Score: 21.0\n",
      "Episode:2 Score: 17.0\n",
      "Episode:3 Score: 19.0\n",
      "Episode:4 Score: 28.0\n",
      "Episode:5 Score: 15.0\n",
      "Episode:6 Score: 20.0\n",
      "Episode:7 Score: 25.0\n",
      "Episode:8 Score: 23.0\n",
      "Episode:9 Score: 89.0\n",
      "Episode:10 Score: 31.0\n"
     ]
    }
   ],
   "source": [
    "episodes = 10\n",
    "\n",
    "for episode in range(1, episodes + 1):\n",
    "    state = env.reset()\n",
    "    done = False\n",
    "    score = 0\n",
    "\n",
    "    while not done:\n",
    "        env.render()\n",
    "        action = env.action_space.sample()\n",
    "        n_state, reward, done, info = env.step(action)\n",
    "        score += reward\n",
    "    print(f'Episode:{episode} Score: {score}')\n",
    "    \n",
    "    \n",
    "env.close()\n",
    "    \n"
   ]
  }
 ],
 "metadata": {
  "kernelspec": {
   "display_name": "Python 3",
   "language": "python",
   "name": "python3"
  },
  "language_info": {
   "codemirror_mode": {
    "name": "ipython",
    "version": 3
   },
   "file_extension": ".py",
   "mimetype": "text/x-python",
   "name": "python",
   "nbconvert_exporter": "python",
   "pygments_lexer": "ipython3",
   "version": "3.9.1"
  }
 },
 "nbformat": 4,
 "nbformat_minor": 5
}
